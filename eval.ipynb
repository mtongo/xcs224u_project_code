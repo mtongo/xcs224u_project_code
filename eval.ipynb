{
 "cells": [
  {
   "cell_type": "code",
   "execution_count": 1,
   "metadata": {},
   "outputs": [],
   "source": [
    "%load_ext autoreload\n",
    "%autoreload 2\n",
    "\n",
    "import os\n",
    "from sklearn.metrics import classification_report, accuracy_score\n",
    "from bfmodels import BF_Model\n",
    "from dataloader import get_anli_raw_data, get_eval_raw_data"
   ]
  },
  {
   "cell_type": "code",
   "execution_count": 2,
   "metadata": {},
   "outputs": [
    {
     "data": {
      "text/plain": [
       "1200"
      ]
     },
     "execution_count": 2,
     "metadata": {},
     "output_type": "execute_result"
    }
   ],
   "source": [
    "anli_type = 'dev'\n",
    "rounds = (3,)\n",
    "X_dev = [e[0] for e in get_anli_raw_data('dev', rounds)]\n",
    "y_dev = [e[1] for e in get_anli_raw_data('dev', rounds)]\n",
    "len(X_dev)"
   ]
  },
  {
   "cell_type": "code",
   "execution_count": 3,
   "metadata": {},
   "outputs": [],
   "source": [
    "best_bert_model = \"bert-base-cased_11_1_16_3e-05.pkl\"\n",
    "mod = BF_Model.from_pickle(os.path.join('models', best_bert_model))"
   ]
  },
  {
   "cell_type": "code",
   "execution_count": 4,
   "metadata": {},
   "outputs": [
    {
     "name": "stdout",
     "output_type": "stream",
     "text": [
      "[0.3466666666666667, 0.3425, 0.3458333333333333, 0.32166666666666666, 0.3358333333333333, 0.31583333333333335, 0.3275, 0.34, 0.3525, 0.3516666666666667]\n"
     ]
    }
   ],
   "source": [
    "accuracy_scores = []\n",
    "for _ in range(10):\n",
    "    predictions = mod.predict(X_dev)\n",
    "    accuracy_scores.append(accuracy_score(y_dev, predictions))\n",
    "print(accuracy_scores)"
   ]
  },
  {
   "cell_type": "code",
   "execution_count": null,
   "metadata": {},
   "outputs": [],
   "source": []
  },
  {
   "cell_type": "code",
   "execution_count": 5,
   "metadata": {},
   "outputs": [],
   "source": [
    "best_roberta_model = 'models/roberta-base_01_2_32_2e-05.pkl'\n",
    "roberta_mod = BF_Model.from_pickle(os.path.join('models', best_bert_model))"
   ]
  },
  {
   "cell_type": "code",
   "execution_count": 6,
   "metadata": {},
   "outputs": [
    {
     "name": "stdout",
     "output_type": "stream",
     "text": [
      "[0.3475, 0.33666666666666667, 0.3416666666666667, 0.31333333333333335, 0.3358333333333333, 0.3258333333333333, 0.31833333333333336, 0.3416666666666667, 0.315, 0.3308333333333333]\n"
     ]
    }
   ],
   "source": [
    "roberta_accuracy_scores = []\n",
    "for _ in range(10):\n",
    "    predictions = roberta_mod.predict(X_dev)\n",
    "    roberta_accuracy_scores.append(accuracy_score(y_dev, predictions))\n",
    "print(roberta_accuracy_scores)"
   ]
  },
  {
   "cell_type": "code",
   "execution_count": null,
   "metadata": {},
   "outputs": [],
   "source": []
  },
  {
   "cell_type": "code",
   "execution_count": 7,
   "metadata": {},
   "outputs": [
    {
     "data": {
      "text/plain": [
       "786"
      ]
     },
     "execution_count": 7,
     "metadata": {},
     "output_type": "execute_result"
    }
   ],
   "source": [
    "X_test = [e[0] for e in get_eval_raw_data()]\n",
    "y_test = [e[1] for e in get_eval_raw_data()]\n",
    "len(X_test)"
   ]
  },
  {
   "cell_type": "code",
   "execution_count": 8,
   "metadata": {},
   "outputs": [
    {
     "name": "stdout",
     "output_type": "stream",
     "text": [
      "0.6132315521628499\n"
     ]
    }
   ],
   "source": [
    "best_model = roberta_mod\n",
    "predictions = best_model.predict(X_test)\n",
    "print(accuracy_score(y_test, predictions))"
   ]
  },
  {
   "cell_type": "code",
   "execution_count": null,
   "metadata": {},
   "outputs": [],
   "source": []
  }
 ],
 "metadata": {
  "kernelspec": {
   "display_name": "Python 3",
   "language": "python",
   "name": "python3"
  },
  "language_info": {
   "codemirror_mode": {
    "name": "ipython",
    "version": 3
   },
   "file_extension": ".py",
   "mimetype": "text/x-python",
   "name": "python",
   "nbconvert_exporter": "python",
   "pygments_lexer": "ipython3",
   "version": "3.7.6"
  }
 },
 "nbformat": 4,
 "nbformat_minor": 4
}
