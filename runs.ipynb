{
 "cells": [
  {
   "cell_type": "code",
   "execution_count": null,
   "metadata": {},
   "outputs": [],
   "source": [
    "%load_ext autoreload\n",
    "%autoreload 2\n",
    "\n",
    "from bfmodels import BF_Model\n",
    "from utils_2 import fit_classifier_with_crossvalidation\n",
    "from dataloader import get_anli_raw_data"
   ]
  },
  {
   "cell_type": "code",
   "execution_count": null,
   "metadata": {},
   "outputs": [],
   "source": [
    "num_classes = 3\n",
    "class_to_label = {'e':0, 'c':1, 'n':2}\n",
    "label_to_class = {0:'e', 1:'c', 2:'n'}\n",
    "anli_type = 'train'\n",
    "rounds = (3,)\n",
    "\n",
    "X = [e[0] for e in get_anli_raw_data(anli_type, rounds)]\n",
    "y = [e[1] for e in get_anli_raw_data(anli_type, rounds)]"
   ]
  },
  {
   "cell_type": "code",
   "execution_count": null,
   "metadata": {},
   "outputs": [],
   "source": [
    "model_weight_name = 'bert-base-cased'\n",
    "bert_model = True\n",
    "fine_tune_model = True\n",
    "batch_size = 16\n",
    "epochs=1\n",
    "lr = 2e-5\n",
    "\n",
    "basemod = BF_Model(model_weight_name, bert_model, fine_tune_model, label_to_class, class_to_label, anli_type, \n",
    "                   rounds, lr, batch_size, epochs)\n",
    "cv = 3\n",
    "param_grid = {'batch_size': [16, 32], 'lr': [3e-5, 2e-5], 'epochs': [1, 2]}\n",
    "best_mod = fit_classifier_with_crossvalidation(\n",
    "    X, y, basemod, cv, param_grid)\n",
    "best_mod"
   ]
  },
  {
   "cell_type": "code",
   "execution_count": null,
   "metadata": {},
   "outputs": [],
   "source": [
    "model_weight_name = 'roberta-base'\n",
    "bert_model = False\n",
    "fine_tune_model = True\n",
    "batch_size = 16\n",
    "epochs=1\n",
    "lr = 2e-5\n",
    "X = [e[0] for e in get_anli_raw_data(anli_type, rounds)]\n",
    "y = [e[1] for e in get_anli_raw_data(anli_type, rounds)]\n",
    "\n",
    "basemod = BF_Model(model_weight_name, bert_model, fine_tune_model, label_to_class, class_to_label, anli_type, \n",
    "                   rounds, lr, batch_size, epochs)\n",
    "cv = 3\n",
    "param_grid = {'batch_size': [16, 32], 'lr': [3e-5, 2e-5], 'epochs': [1,2]}\n",
    "best_mod = fit_classifier_with_crossvalidation(\n",
    "    X, y, basemod, cv, param_grid)\n",
    "best_mod"
   ]
  },
  {
   "cell_type": "code",
   "execution_count": null,
   "metadata": {},
   "outputs": [],
   "source": []
  }
 ],
 "metadata": {
  "kernelspec": {
   "display_name": "Python 3",
   "language": "python",
   "name": "python3"
  },
  "language_info": {
   "codemirror_mode": {
    "name": "ipython",
    "version": 3
   },
   "file_extension": ".py",
   "mimetype": "text/x-python",
   "name": "python",
   "nbconvert_exporter": "python",
   "pygments_lexer": "ipython3",
   "version": "3.7.6"
  }
 },
 "nbformat": 4,
 "nbformat_minor": 4
}
